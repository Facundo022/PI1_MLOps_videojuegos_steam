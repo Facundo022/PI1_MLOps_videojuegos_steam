{
 "cells": [
  {
   "cell_type": "markdown",
   "metadata": {},
   "source": [
    "# Practica en la realizacion de las funciones de la api"
   ]
  },
  {
   "cell_type": "markdown",
   "metadata": {},
   "source": [
    "importaciones"
   ]
  },
  {
   "cell_type": "code",
   "execution_count": 1,
   "metadata": {},
   "outputs": [],
   "source": [
    "import pandas as pd"
   ]
  },
  {
   "cell_type": "markdown",
   "metadata": {},
   "source": [
    "## Funcion PlayTimeGenre"
   ]
  },
  {
   "cell_type": "code",
   "execution_count": 3,
   "metadata": {},
   "outputs": [
    {
     "data": {
      "text/plain": [
       "Index(['genres', 'year', 'playtime_forever'], dtype='object')"
      ]
     },
     "execution_count": 3,
     "metadata": {},
     "output_type": "execute_result"
    }
   ],
   "source": [
    "df_PlayTimeGenre = pd.read_parquet(\"data/play_time_genres.parquet\")\n",
    "df_PlayTimeGenre.columns"
   ]
  },
  {
   "cell_type": "code",
   "execution_count": 6,
   "metadata": {},
   "outputs": [],
   "source": [
    "def PlayTimeGenre( genero : str ):\n",
    "    \"\"\"\n",
    "    Funcion que devuelve el año con mas horas jugadas para dicho género.\n",
    "    \"\"\"\n",
    "    generos = df_PlayTimeGenre[df_PlayTimeGenre[\"genres\"] == genero] \n",
    "    if generos.empty: \n",
    "        return f\"No se encontraron datos para el género {genero}\"\n",
    "    año_max = generos.loc[generos[\"playtime_forever\"].idxmax()]\n",
    "    result = {\n",
    "        'Genero': genero,\n",
    "        'Año con Más Horas Jugadas': int(año_max[\"year\"]),\n",
    "        'Total de Horas Jugadas': año_max[\"playtime_forever\"]\n",
    "    }\n",
    "\n",
    "    return result"
   ]
  },
  {
   "cell_type": "code",
   "execution_count": 7,
   "metadata": {},
   "outputs": [
    {
     "data": {
      "text/plain": [
       "{'Genero': 'Action',\n",
       " 'Año con Más Horas Jugadas': 2012,\n",
       " 'Total de Horas Jugadas': 18096708.533333335}"
      ]
     },
     "execution_count": 7,
     "metadata": {},
     "output_type": "execute_result"
    }
   ],
   "source": [
    "PlayTimeGenre(\"Action\")"
   ]
  },
  {
   "cell_type": "markdown",
   "metadata": {},
   "source": [
    "## Funcion UserForGenre"
   ]
  },
  {
   "cell_type": "code",
   "execution_count": 9,
   "metadata": {},
   "outputs": [
    {
     "data": {
      "text/plain": [
       "Index(['genres', 'user_id', 'playtime_forever'], dtype='object')"
      ]
     },
     "execution_count": 9,
     "metadata": {},
     "output_type": "execute_result"
    }
   ],
   "source": [
    "df_UserForGenre = pd.read_parquet(\"data/user_for_genre_part_1.parquet\")\n",
    "df_UserForGenre.columns"
   ]
  },
  {
   "cell_type": "code",
   "execution_count": 48,
   "metadata": {},
   "outputs": [],
   "source": [
    "def UserForGenre(genero: str):\n",
    "    \"\"\"\n",
    "    Función que devuelve el usuario que acumula más horas jugadas para el género dado \n",
    "    y el total de horas jugadas para ese género.\n",
    "    \"\"\"\n",
    "    # Filtrar el DataFrame por el género dado\n",
    "    generos2 = df_UserForGenre[df_UserForGenre[\"genres\"] == genero]\n",
    "    \n",
    "    # Obtener el usuario con más horas jugadas para ese género\n",
    "    user_max = generos2.loc[generos2[\"playtime_forever\"].idxmax()][\"user_id\"]\n",
    "    \n",
    "    # Calcular el total de horas jugadas para ese género\n",
    "    horas_total = generos2[\"playtime_forever\"].sum()\n",
    "\n",
    "    # Crear el diccionario de resultados\n",
    "    result = {\n",
    "        \"Genero\": genero,\n",
    "        \"Usuario con Más Horas Jugadas\": user_max,\n",
    "        \"Total de Horas Jugadas\": horas_total\n",
    "    }\n",
    "    \n",
    "    return result\n"
   ]
  },
  {
   "cell_type": "code",
   "execution_count": 49,
   "metadata": {},
   "outputs": [
    {
     "data": {
      "text/plain": [
       "{'Genero': 'Action',\n",
       " 'Usuario con Más Horas Jugadas': 'Sp3ctre',\n",
       " 'Total de Horas Jugadas': 29704.216666666667}"
      ]
     },
     "execution_count": 49,
     "metadata": {},
     "output_type": "execute_result"
    }
   ],
   "source": [
    "UserForGenre(\"Action\")"
   ]
  },
  {
   "cell_type": "code",
   "execution_count": 50,
   "metadata": {},
   "outputs": [
    {
     "data": {
      "text/plain": [
       "Index(['genres', 'playtime_forever', 'ranking'], dtype='object')"
      ]
     },
     "execution_count": 50,
     "metadata": {},
     "output_type": "execute_result"
    }
   ],
   "source": [
    "df_UserForGenre2 = pd.read_parquet(\"data/user_for_genre_part_2.parquet\")\n",
    "df_UserForGenre2.columns"
   ]
  },
  {
   "cell_type": "code",
   "execution_count": 61,
   "metadata": {},
   "outputs": [],
   "source": [
    "def UserForGenre2(genero: str):\n",
    "    \"\"\"\n",
    "    Función que devuelve un DataFrame filtrado por el género dado y las horas jugadas por año para ese género.\n",
    "    \"\"\"\n",
    "    # Filtrar el DataFrame por el género dado\n",
    "    generos3 = df_UserForGenre2[df_UserForGenre2[\"genres\"] == genero]\n",
    "   \n",
    "    # Calcular las horas jugadas por año para ese género\n",
    "    horas_x_año3 = generos3[\"playtime_forever\"].sum()\n",
    "    \n",
    "    # Crear el DataFrame con los datos filtrados y las horas jugadas por año\n",
    "    df_result = pd.DataFrame({\n",
    "        \"Genero\": [genero],\n",
    "        \"Total de Horas Jugadas hasta ahora\": [horas_x_año3]\n",
    "    })\n",
    "\n",
    "    return df_result"
   ]
  },
  {
   "cell_type": "code",
   "execution_count": 62,
   "metadata": {},
   "outputs": [
    {
     "data": {
      "text/html": [
       "<div>\n",
       "<style scoped>\n",
       "    .dataframe tbody tr th:only-of-type {\n",
       "        vertical-align: middle;\n",
       "    }\n",
       "\n",
       "    .dataframe tbody tr th {\n",
       "        vertical-align: top;\n",
       "    }\n",
       "\n",
       "    .dataframe thead th {\n",
       "        text-align: right;\n",
       "    }\n",
       "</style>\n",
       "<table border=\"1\" class=\"dataframe\">\n",
       "  <thead>\n",
       "    <tr style=\"text-align: right;\">\n",
       "      <th></th>\n",
       "      <th>Genero</th>\n",
       "      <th>Total de Horas Jugadas hasta ahora</th>\n",
       "    </tr>\n",
       "  </thead>\n",
       "  <tbody>\n",
       "    <tr>\n",
       "      <th>0</th>\n",
       "      <td>Adventure</td>\n",
       "      <td>1.680433e+07</td>\n",
       "    </tr>\n",
       "  </tbody>\n",
       "</table>\n",
       "</div>"
      ],
      "text/plain": [
       "      Genero  Total de Horas Jugadas hasta ahora\n",
       "0  Adventure                        1.680433e+07"
      ]
     },
     "execution_count": 62,
     "metadata": {},
     "output_type": "execute_result"
    }
   ],
   "source": [
    "UserForGenre2(\"Adventure\")"
   ]
  },
  {
   "cell_type": "markdown",
   "metadata": {},
   "source": [
    "## Funcion UsersRecommend"
   ]
  },
  {
   "cell_type": "code",
   "execution_count": 63,
   "metadata": {},
   "outputs": [
    {
     "data": {
      "text/html": [
       "<div>\n",
       "<style scoped>\n",
       "    .dataframe tbody tr th:only-of-type {\n",
       "        vertical-align: middle;\n",
       "    }\n",
       "\n",
       "    .dataframe tbody tr th {\n",
       "        vertical-align: top;\n",
       "    }\n",
       "\n",
       "    .dataframe thead th {\n",
       "        text-align: right;\n",
       "    }\n",
       "</style>\n",
       "<table border=\"1\" class=\"dataframe\">\n",
       "  <thead>\n",
       "    <tr style=\"text-align: right;\">\n",
       "      <th></th>\n",
       "      <th></th>\n",
       "      <th>anio</th>\n",
       "      <th>id_game</th>\n",
       "      <th>app_name</th>\n",
       "      <th>num_reviews_positivas</th>\n",
       "    </tr>\n",
       "    <tr>\n",
       "      <th>anio</th>\n",
       "      <th></th>\n",
       "      <th></th>\n",
       "      <th></th>\n",
       "      <th></th>\n",
       "      <th></th>\n",
       "    </tr>\n",
       "  </thead>\n",
       "  <tbody>\n",
       "    <tr>\n",
       "      <th rowspan=\"3\" valign=\"top\">2010.0</th>\n",
       "      <th>3</th>\n",
       "      <td>2010.0</td>\n",
       "      <td>440.0</td>\n",
       "      <td>Team Fortress 2</td>\n",
       "      <td>5</td>\n",
       "    </tr>\n",
       "    <tr>\n",
       "      <th>8</th>\n",
       "      <td>2010.0</td>\n",
       "      <td>4000.0</td>\n",
       "      <td>Garry's Mod</td>\n",
       "      <td>4</td>\n",
       "    </tr>\n",
       "    <tr>\n",
       "      <th>6</th>\n",
       "      <td>2010.0</td>\n",
       "      <td>1250.0</td>\n",
       "      <td>Killing Floor</td>\n",
       "      <td>3</td>\n",
       "    </tr>\n",
       "    <tr>\n",
       "      <th rowspan=\"3\" valign=\"top\">2011.0</th>\n",
       "      <th>100</th>\n",
       "      <td>2011.0</td>\n",
       "      <td>105600.0</td>\n",
       "      <td>Terraria</td>\n",
       "      <td>36</td>\n",
       "    </tr>\n",
       "    <tr>\n",
       "      <th>23</th>\n",
       "      <td>2011.0</td>\n",
       "      <td>440.0</td>\n",
       "      <td>Team Fortress 2</td>\n",
       "      <td>35</td>\n",
       "    </tr>\n",
       "    <tr>\n",
       "      <th>27</th>\n",
       "      <td>2011.0</td>\n",
       "      <td>620.0</td>\n",
       "      <td>Portal 2</td>\n",
       "      <td>30</td>\n",
       "    </tr>\n",
       "    <tr>\n",
       "      <th rowspan=\"3\" valign=\"top\">2012.0</th>\n",
       "      <th>112</th>\n",
       "      <td>2012.0</td>\n",
       "      <td>440.0</td>\n",
       "      <td>Team Fortress 2</td>\n",
       "      <td>112</td>\n",
       "    </tr>\n",
       "    <tr>\n",
       "      <th>198</th>\n",
       "      <td>2012.0</td>\n",
       "      <td>105600.0</td>\n",
       "      <td>Terraria</td>\n",
       "      <td>72</td>\n",
       "    </tr>\n",
       "    <tr>\n",
       "      <th>115</th>\n",
       "      <td>2012.0</td>\n",
       "      <td>570.0</td>\n",
       "      <td>Dota 2</td>\n",
       "      <td>60</td>\n",
       "    </tr>\n",
       "    <tr>\n",
       "      <th rowspan=\"3\" valign=\"top\">2013.0</th>\n",
       "      <th>253</th>\n",
       "      <td>2013.0</td>\n",
       "      <td>570.0</td>\n",
       "      <td>Dota 2</td>\n",
       "      <td>388</td>\n",
       "    </tr>\n",
       "    <tr>\n",
       "      <th>250</th>\n",
       "      <td>2013.0</td>\n",
       "      <td>440.0</td>\n",
       "      <td>Team Fortress 2</td>\n",
       "      <td>332</td>\n",
       "    </tr>\n",
       "    <tr>\n",
       "      <th>267</th>\n",
       "      <td>2013.0</td>\n",
       "      <td>4000.0</td>\n",
       "      <td>Garry's Mod</td>\n",
       "      <td>230</td>\n",
       "    </tr>\n",
       "    <tr>\n",
       "      <th rowspan=\"3\" valign=\"top\">2014.0</th>\n",
       "      <th>613</th>\n",
       "      <td>2014.0</td>\n",
       "      <td>570.0</td>\n",
       "      <td>Dota 2</td>\n",
       "      <td>912</td>\n",
       "    </tr>\n",
       "    <tr>\n",
       "      <th>1309</th>\n",
       "      <td>2014.0</td>\n",
       "      <td>304930.0</td>\n",
       "      <td>Unturned</td>\n",
       "      <td>656</td>\n",
       "    </tr>\n",
       "    <tr>\n",
       "      <th>1145</th>\n",
       "      <td>2014.0</td>\n",
       "      <td>252490.0</td>\n",
       "      <td>Rust</td>\n",
       "      <td>585</td>\n",
       "    </tr>\n",
       "    <tr>\n",
       "      <th rowspan=\"3\" valign=\"top\">2015.0</th>\n",
       "      <th>1376</th>\n",
       "      <td>2015.0</td>\n",
       "      <td>730.0</td>\n",
       "      <td>Counter-Strike: Global Offensive</td>\n",
       "      <td>466</td>\n",
       "    </tr>\n",
       "    <tr>\n",
       "      <th>1373</th>\n",
       "      <td>2015.0</td>\n",
       "      <td>570.0</td>\n",
       "      <td>Dota 2</td>\n",
       "      <td>348</td>\n",
       "    </tr>\n",
       "    <tr>\n",
       "      <th>1635</th>\n",
       "      <td>2015.0</td>\n",
       "      <td>218620.0</td>\n",
       "      <td>PAYDAY 2</td>\n",
       "      <td>324</td>\n",
       "    </tr>\n",
       "  </tbody>\n",
       "</table>\n",
       "</div>"
      ],
      "text/plain": [
       "               anio   id_game                          app_name  \\\n",
       "anio                                                              \n",
       "2010.0 3     2010.0     440.0                   Team Fortress 2   \n",
       "       8     2010.0    4000.0                       Garry's Mod   \n",
       "       6     2010.0    1250.0                     Killing Floor   \n",
       "2011.0 100   2011.0  105600.0                          Terraria   \n",
       "       23    2011.0     440.0                   Team Fortress 2   \n",
       "       27    2011.0     620.0                          Portal 2   \n",
       "2012.0 112   2012.0     440.0                   Team Fortress 2   \n",
       "       198   2012.0  105600.0                          Terraria   \n",
       "       115   2012.0     570.0                            Dota 2   \n",
       "2013.0 253   2013.0     570.0                            Dota 2   \n",
       "       250   2013.0     440.0                   Team Fortress 2   \n",
       "       267   2013.0    4000.0                       Garry's Mod   \n",
       "2014.0 613   2014.0     570.0                            Dota 2   \n",
       "       1309  2014.0  304930.0                          Unturned   \n",
       "       1145  2014.0  252490.0                              Rust   \n",
       "2015.0 1376  2015.0     730.0  Counter-Strike: Global Offensive   \n",
       "       1373  2015.0     570.0                            Dota 2   \n",
       "       1635  2015.0  218620.0                          PAYDAY 2   \n",
       "\n",
       "             num_reviews_positivas  \n",
       "anio                                \n",
       "2010.0 3                         5  \n",
       "       8                         4  \n",
       "       6                         3  \n",
       "2011.0 100                      36  \n",
       "       23                       35  \n",
       "       27                       30  \n",
       "2012.0 112                     112  \n",
       "       198                      72  \n",
       "       115                      60  \n",
       "2013.0 253                     388  \n",
       "       250                     332  \n",
       "       267                     230  \n",
       "2014.0 613                     912  \n",
       "       1309                    656  \n",
       "       1145                    585  \n",
       "2015.0 1376                    466  \n",
       "       1373                    348  \n",
       "       1635                    324  "
      ]
     },
     "execution_count": 63,
     "metadata": {},
     "output_type": "execute_result"
    }
   ],
   "source": [
    "df_UsersRecommend = pd.read_parquet(\"data/UsersRecommend.parquet\")\n",
    "df_UsersRecommend"
   ]
  },
  {
   "cell_type": "code",
   "execution_count": 87,
   "metadata": {},
   "outputs": [],
   "source": [
    "def UsersRecommend( año : int ):\n",
    "    \"\"\"\n",
    "    Funcion que devuelve el top 3 de juegos MÁS recomendados por usuarios para el año dado.\n",
    "    \"\"\"\n",
    "    df_año= df_UsersRecommend[df_UsersRecommend[\"anio\"]== año]\n",
    "    if type(año) != int:\n",
    "        return {\"Debes colocar el año en entero, Ejemplo:2012\"}\n",
    "    if año < df_UsersRecommend[\"anio\"].min() or año > df_UsersRecommend[\"anio\"].max():\n",
    "        return {\"Año no encontrado\"}\n",
    "    df_ordenado_recomendacion = df_año.sort_values(by=\"num_reviews_positivas\", ascending=False)\n",
    "    top_3_juegos = df_ordenado_recomendacion.head(3)[[\"app_name\",\"num_reviews_positivas\"]]\n",
    "    result3 ={\n",
    "        \"Año\": año,\n",
    "        \"Top 3 Juegos Más Recomendados\": top_3_juegos.to_dict(orient='records')\n",
    "    }\n",
    "    return result3"
   ]
  },
  {
   "cell_type": "code",
   "execution_count": 88,
   "metadata": {},
   "outputs": [
    {
     "data": {
      "text/plain": [
       "{'Año': 2015,\n",
       " 'Top 3 Juegos Más Recomendados': [{'app_name': 'Counter-Strike: Global Offensive',\n",
       "   'num_reviews_positivas': 466},\n",
       "  {'app_name': 'Dota 2', 'num_reviews_positivas': 348},\n",
       "  {'app_name': 'PAYDAY 2', 'num_reviews_positivas': 324}]}"
      ]
     },
     "execution_count": 88,
     "metadata": {},
     "output_type": "execute_result"
    }
   ],
   "source": [
    "UsersRecommend(2015)"
   ]
  },
  {
   "cell_type": "markdown",
   "metadata": {},
   "source": [
    "## Funcion UsersWorstDeveloper"
   ]
  },
  {
   "cell_type": "code",
   "execution_count": 89,
   "metadata": {},
   "outputs": [
    {
     "data": {
      "text/html": [
       "<div>\n",
       "<style scoped>\n",
       "    .dataframe tbody tr th:only-of-type {\n",
       "        vertical-align: middle;\n",
       "    }\n",
       "\n",
       "    .dataframe tbody tr th {\n",
       "        vertical-align: top;\n",
       "    }\n",
       "\n",
       "    .dataframe thead th {\n",
       "        text-align: right;\n",
       "    }\n",
       "</style>\n",
       "<table border=\"1\" class=\"dataframe\">\n",
       "  <thead>\n",
       "    <tr style=\"text-align: right;\">\n",
       "      <th></th>\n",
       "      <th></th>\n",
       "      <th>anio</th>\n",
       "      <th>developer</th>\n",
       "      <th>num_reviews_negativas</th>\n",
       "    </tr>\n",
       "    <tr>\n",
       "      <th>anio</th>\n",
       "      <th></th>\n",
       "      <th></th>\n",
       "      <th></th>\n",
       "      <th></th>\n",
       "    </tr>\n",
       "  </thead>\n",
       "  <tbody>\n",
       "    <tr>\n",
       "      <th rowspan=\"3\" valign=\"top\">2011.0</th>\n",
       "      <th>1</th>\n",
       "      <td>2011.0</td>\n",
       "      <td>Broken Rules</td>\n",
       "      <td>2</td>\n",
       "    </tr>\n",
       "    <tr>\n",
       "      <th>0</th>\n",
       "      <td>2011.0</td>\n",
       "      <td>1C Company</td>\n",
       "      <td>1</td>\n",
       "    </tr>\n",
       "    <tr>\n",
       "      <th>2</th>\n",
       "      <td>2011.0</td>\n",
       "      <td>Valve</td>\n",
       "      <td>1</td>\n",
       "    </tr>\n",
       "    <tr>\n",
       "      <th rowspan=\"2\" valign=\"top\">2012.0</th>\n",
       "      <th>3</th>\n",
       "      <td>2012.0</td>\n",
       "      <td>Valve</td>\n",
       "      <td>1</td>\n",
       "    </tr>\n",
       "    <tr>\n",
       "      <th>4</th>\n",
       "      <td>2012.0</td>\n",
       "      <td>Volition</td>\n",
       "      <td>1</td>\n",
       "    </tr>\n",
       "    <tr>\n",
       "      <th rowspan=\"3\" valign=\"top\">2013.0</th>\n",
       "      <th>48</th>\n",
       "      <td>2013.0</td>\n",
       "      <td>Valor no disponible</td>\n",
       "      <td>11</td>\n",
       "    </tr>\n",
       "    <tr>\n",
       "      <th>39</th>\n",
       "      <td>2013.0</td>\n",
       "      <td>Phosphor Games Studio</td>\n",
       "      <td>10</td>\n",
       "    </tr>\n",
       "    <tr>\n",
       "      <th>25</th>\n",
       "      <td>2013.0</td>\n",
       "      <td>Facepunch Studios</td>\n",
       "      <td>7</td>\n",
       "    </tr>\n",
       "    <tr>\n",
       "      <th rowspan=\"3\" valign=\"top\">2014.0</th>\n",
       "      <th>231</th>\n",
       "      <td>2014.0</td>\n",
       "      <td>Valor no disponible</td>\n",
       "      <td>90</td>\n",
       "    </tr>\n",
       "    <tr>\n",
       "      <th>219</th>\n",
       "      <td>2014.0</td>\n",
       "      <td>Trek Industries, Inc</td>\n",
       "      <td>56</td>\n",
       "    </tr>\n",
       "    <tr>\n",
       "      <th>62</th>\n",
       "      <td>2014.0</td>\n",
       "      <td>Bohemia Interactive</td>\n",
       "      <td>50</td>\n",
       "    </tr>\n",
       "    <tr>\n",
       "      <th rowspan=\"3\" valign=\"top\">2015.0</th>\n",
       "      <th>436</th>\n",
       "      <td>2015.0</td>\n",
       "      <td>Valor no disponible</td>\n",
       "      <td>121</td>\n",
       "    </tr>\n",
       "    <tr>\n",
       "      <th>303</th>\n",
       "      <td>2015.0</td>\n",
       "      <td>Facepunch Studios</td>\n",
       "      <td>89</td>\n",
       "    </tr>\n",
       "    <tr>\n",
       "      <th>259</th>\n",
       "      <td>2015.0</td>\n",
       "      <td>Bohemia Interactive</td>\n",
       "      <td>60</td>\n",
       "    </tr>\n",
       "  </tbody>\n",
       "</table>\n",
       "</div>"
      ],
      "text/plain": [
       "              anio              developer  num_reviews_negativas\n",
       "anio                                                            \n",
       "2011.0 1    2011.0           Broken Rules                      2\n",
       "       0    2011.0             1C Company                      1\n",
       "       2    2011.0                  Valve                      1\n",
       "2012.0 3    2012.0                  Valve                      1\n",
       "       4    2012.0               Volition                      1\n",
       "2013.0 48   2013.0    Valor no disponible                     11\n",
       "       39   2013.0  Phosphor Games Studio                     10\n",
       "       25   2013.0      Facepunch Studios                      7\n",
       "2014.0 231  2014.0    Valor no disponible                     90\n",
       "       219  2014.0   Trek Industries, Inc                     56\n",
       "       62   2014.0    Bohemia Interactive                     50\n",
       "2015.0 436  2015.0    Valor no disponible                    121\n",
       "       303  2015.0      Facepunch Studios                     89\n",
       "       259  2015.0    Bohemia Interactive                     60"
      ]
     },
     "execution_count": 89,
     "metadata": {},
     "output_type": "execute_result"
    }
   ],
   "source": [
    "df_UsersWorstDeveloper = pd.read_parquet(\"data/UsersWorstDeveloper.parquet\")\n",
    "df_UsersWorstDeveloper"
   ]
  },
  {
   "cell_type": "code",
   "execution_count": 91,
   "metadata": {},
   "outputs": [],
   "source": [
    "def UsersWorstDeveloper( año : int ):\n",
    "    \"\"\"\n",
    "    Funcion que devuelve el top 3 de desarrolladoras con juegos MENOS \n",
    "    recomendados por usuarios para el año dado.\n",
    "    \"\"\"\n",
    "    df_año2 = df_UsersWorstDeveloper[df_UsersWorstDeveloper[\"anio\"]== año]\n",
    "    if type(año) != int:\n",
    "        return {\"Debes colocar el año en entero, Ejemplo:2012\"}\n",
    "    if año < df_UsersRecommend[\"anio\"].min() or año > df_UsersRecommend[\"anio\"].max():\n",
    "        return {\"Año no encontrado \"}\n",
    "    df_ordenado_recomendacion2 = df_año2.sort_values(by=\"num_reviews_negativas\", ascending=False)\n",
    "    top_3_developers = df_ordenado_recomendacion2[[\"developer\",\"num_reviews_negativas\"]]\n",
    "    result4 = {\n",
    "        'Año': año,\n",
    "        'Top 3 Desarrolladoras Menos Recomendadas': top_3_developers.to_dict(orient=\"records\")\n",
    "    }\n",
    "    return result4\n"
   ]
  },
  {
   "cell_type": "code",
   "execution_count": 92,
   "metadata": {},
   "outputs": [
    {
     "data": {
      "text/plain": [
       "{'Año': 2015,\n",
       " 'Top 3 Desarrolladoras Menos Recomendadas': [{'developer': 'Valor no disponible',\n",
       "   'num_reviews_negativas': 121},\n",
       "  {'developer': 'Facepunch Studios', 'num_reviews_negativas': 89},\n",
       "  {'developer': 'Bohemia Interactive', 'num_reviews_negativas': 60}]}"
      ]
     },
     "execution_count": 92,
     "metadata": {},
     "output_type": "execute_result"
    }
   ],
   "source": [
    "UsersWorstDeveloper(2015)"
   ]
  },
  {
   "cell_type": "markdown",
   "metadata": {},
   "source": [
    "## Funciones sentiment_analysis"
   ]
  },
  {
   "cell_type": "code",
   "execution_count": 100,
   "metadata": {},
   "outputs": [
    {
     "data": {
      "text/html": [
       "<div>\n",
       "<style scoped>\n",
       "    .dataframe tbody tr th:only-of-type {\n",
       "        vertical-align: middle;\n",
       "    }\n",
       "\n",
       "    .dataframe tbody tr th {\n",
       "        vertical-align: top;\n",
       "    }\n",
       "\n",
       "    .dataframe thead th {\n",
       "        text-align: right;\n",
       "    }\n",
       "</style>\n",
       "<table border=\"1\" class=\"dataframe\">\n",
       "  <thead>\n",
       "    <tr style=\"text-align: right;\">\n",
       "      <th></th>\n",
       "      <th>developer</th>\n",
       "      <th>cant_sentiment_negative</th>\n",
       "      <th>cant_sentiment_neutral</th>\n",
       "      <th>cant_sentiment_positive</th>\n",
       "    </tr>\n",
       "  </thead>\n",
       "  <tbody>\n",
       "    <tr>\n",
       "      <th>0</th>\n",
       "      <td>07th Expansion</td>\n",
       "      <td>0</td>\n",
       "      <td>3</td>\n",
       "      <td>0</td>\n",
       "    </tr>\n",
       "    <tr>\n",
       "      <th>1</th>\n",
       "      <td>10th Art Studio,Adventure Productions</td>\n",
       "      <td>0</td>\n",
       "      <td>2</td>\n",
       "      <td>0</td>\n",
       "    </tr>\n",
       "    <tr>\n",
       "      <th>2</th>\n",
       "      <td>10tons Ltd</td>\n",
       "      <td>0</td>\n",
       "      <td>3</td>\n",
       "      <td>0</td>\n",
       "    </tr>\n",
       "    <tr>\n",
       "      <th>3</th>\n",
       "      <td>11 bit studios</td>\n",
       "      <td>27</td>\n",
       "      <td>135</td>\n",
       "      <td>21</td>\n",
       "    </tr>\n",
       "    <tr>\n",
       "      <th>4</th>\n",
       "      <td>14° East</td>\n",
       "      <td>1</td>\n",
       "      <td>1</td>\n",
       "      <td>0</td>\n",
       "    </tr>\n",
       "    <tr>\n",
       "      <th>...</th>\n",
       "      <td>...</td>\n",
       "      <td>...</td>\n",
       "      <td>...</td>\n",
       "      <td>...</td>\n",
       "    </tr>\n",
       "    <tr>\n",
       "      <th>2085</th>\n",
       "      <td>xXarabongXx</td>\n",
       "      <td>0</td>\n",
       "      <td>3</td>\n",
       "      <td>0</td>\n",
       "    </tr>\n",
       "    <tr>\n",
       "      <th>2086</th>\n",
       "      <td>△○□× (Miwashiba)</td>\n",
       "      <td>0</td>\n",
       "      <td>6</td>\n",
       "      <td>4</td>\n",
       "    </tr>\n",
       "    <tr>\n",
       "      <th>2087</th>\n",
       "      <td>インレ,Inre</td>\n",
       "      <td>0</td>\n",
       "      <td>4</td>\n",
       "      <td>1</td>\n",
       "    </tr>\n",
       "    <tr>\n",
       "      <th>2088</th>\n",
       "      <td>橘子班</td>\n",
       "      <td>3</td>\n",
       "      <td>6</td>\n",
       "      <td>3</td>\n",
       "    </tr>\n",
       "    <tr>\n",
       "      <th>2089</th>\n",
       "      <td>高考恋爱委员会,橘子班</td>\n",
       "      <td>0</td>\n",
       "      <td>8</td>\n",
       "      <td>0</td>\n",
       "    </tr>\n",
       "  </tbody>\n",
       "</table>\n",
       "<p>2090 rows × 4 columns</p>\n",
       "</div>"
      ],
      "text/plain": [
       "                                  developer  cant_sentiment_negative  \\\n",
       "0                            07th Expansion                        0   \n",
       "1     10th Art Studio,Adventure Productions                        0   \n",
       "2                                10tons Ltd                        0   \n",
       "3                            11 bit studios                       27   \n",
       "4                                  14° East                        1   \n",
       "...                                     ...                      ...   \n",
       "2085                            xXarabongXx                        0   \n",
       "2086                       △○□× (Miwashiba)                        0   \n",
       "2087                               インレ,Inre                        0   \n",
       "2088                                    橘子班                        3   \n",
       "2089                            高考恋爱委员会,橘子班                        0   \n",
       "\n",
       "      cant_sentiment_neutral  cant_sentiment_positive  \n",
       "0                          3                        0  \n",
       "1                          2                        0  \n",
       "2                          3                        0  \n",
       "3                        135                       21  \n",
       "4                          1                        0  \n",
       "...                      ...                      ...  \n",
       "2085                       3                        0  \n",
       "2086                       6                        4  \n",
       "2087                       4                        1  \n",
       "2088                       6                        3  \n",
       "2089                       8                        0  \n",
       "\n",
       "[2090 rows x 4 columns]"
      ]
     },
     "execution_count": 100,
     "metadata": {},
     "output_type": "execute_result"
    }
   ],
   "source": [
    "df_Sentiment_Analysis = pd.read_parquet(\"data/sentiment_analysis.parquet\")\n",
    "df_Sentiment_Analysis"
   ]
  },
  {
   "cell_type": "code",
   "execution_count": 101,
   "metadata": {},
   "outputs": [],
   "source": [
    "def sentiment_analysis( desarrollador : str ):\n",
    "    \"\"\"\n",
    "    Funcion que devuelve un diccionario con el nombre de la desarrolladora como llave y una lista \n",
    "    con la cantidad total de registros de reseñas de usuarios que se encuentren categorizados con \n",
    "    un análisis de sentimiento como valor.\n",
    "    \"\"\"\n",
    "    if type(desarrollador) != str:\n",
    "        return \"Debes colocar un developer de tipo str, EJ:'07th Expansion'\"\n",
    "    if len(desarrollador) == 0:\n",
    "        return \"Debes colocar un developer en tipo String\"\n",
    "    \n",
    "    # Filtrar el DataFrame por el desarrollador dado\n",
    "    df_desarrollador = df_Sentiment_Analysis[df_Sentiment_Analysis[\"developer\"] == desarrollador]\n",
    "    \n",
    "    # Sumar el número total de reseñas negativas, neutrales y positivas\n",
    "    reseñas_negativas = df_desarrollador[\"cant_sentiment_negative\"].sum()\n",
    "    reseñas_neutrales = df_desarrollador[\"cant_sentiment_neutral\"].sum()\n",
    "    reseñas_positivas = df_desarrollador[\"cant_sentiment_positive\"].sum()\n",
    "\n",
    "    # Crear el diccionario de resultados\n",
    "    resultados = {\n",
    "        \"El desarrollador: \": desarrollador,\n",
    "        \"tiene de reseñas Negativas\": reseñas_negativas,\n",
    "        \"tiene de reseñas Neutrales\": reseñas_neutrales,\n",
    "        \"tiene de reseñas Positivas\": reseñas_positivas\n",
    "    }\n",
    "    \n",
    "    return resultados"
   ]
  },
  {
   "cell_type": "code",
   "execution_count": 102,
   "metadata": {},
   "outputs": [
    {
     "name": "stdout",
     "output_type": "stream",
     "text": [
      "Index(['developer', 'cant_sentiment_negative', 'cant_sentiment_neutral',\n",
      "       'cant_sentiment_positive'],\n",
      "      dtype='object')\n"
     ]
    }
   ],
   "source": [
    "print(df_Sentiment_Analysis.columns)\n"
   ]
  },
  {
   "cell_type": "code",
   "execution_count": 103,
   "metadata": {},
   "outputs": [
    {
     "data": {
      "text/plain": [
       "{'El desarrollador: ': 'Valve',\n",
       " 'tiene de reseñas Negativas': 731,\n",
       " 'tiene de reseñas Neutrales': 5712,\n",
       " 'tiene de reseñas Positivas': 3373}"
      ]
     },
     "execution_count": 103,
     "metadata": {},
     "output_type": "execute_result"
    }
   ],
   "source": [
    "sentiment_analysis(\"Valve\")"
   ]
  }
 ],
 "metadata": {
  "kernelspec": {
   "display_name": "Python 3",
   "language": "python",
   "name": "python3"
  },
  "language_info": {
   "codemirror_mode": {
    "name": "ipython",
    "version": 3
   },
   "file_extension": ".py",
   "mimetype": "text/x-python",
   "name": "python",
   "nbconvert_exporter": "python",
   "pygments_lexer": "ipython3",
   "version": "3.11.6"
  }
 },
 "nbformat": 4,
 "nbformat_minor": 2
}
